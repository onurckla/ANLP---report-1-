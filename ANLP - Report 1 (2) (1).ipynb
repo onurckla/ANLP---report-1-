{
 "cells": [
  {
   "cell_type": "markdown",
   "metadata": {
    "id": "f2S8I2ny-ovS"
   },
   "source": [
    "# ANLP Assignment: Sentiment Classification\n",
    "\n",
    "In this assignment, you will be investigating NLP methods for distinguishing positive and negative reviews written about movies.\n",
    "\n",
    "For assessment, you are expected to complete and submit this notebook file.  When answers require code, you may import and use library functions (unless explicitly told otherwise).  All of your own code should be included in the notebook rather than imported from elsewhere.  Written answers should also be included in the notebook.  You should insert as many extra cells as you want and change the type between code and markdown as appropriate.\n",
    "\n",
    "In order to avoid misconduct, you should not talk about the assignment questions with your peers.  If you are not sure what a question is asking you to do or have any other questions, please ask me or one of the Teaching Assistants.\n",
    "\n",
    "Marking guidelines are provided as a separate document.\n",
    "\n",
    "The first few cells contain code to set-up the assignment and bring in some data.   In order to provide unique datasets for analysis by different students, you must enter your candidate number in the following cell.  Otherwise do not change the code in these cells."
   ]
  },
  {
   "cell_type": "code",
   "execution_count": 2,
   "metadata": {
    "executionInfo": {
     "elapsed": 405,
     "status": "ok",
     "timestamp": 1700147139326,
     "user": {
      "displayName": "second Acc.",
      "userId": "03571417043818854590"
     },
     "user_tz": 0
    },
    "id": "1gXQAZas-l9c"
   },
   "outputs": [],
   "source": [
    "candidateno=282678\n"
   ]
  },
  {
   "cell_type": "code",
   "execution_count": 3,
   "metadata": {
    "colab": {
     "base_uri": "https://localhost:8080/"
    },
    "executionInfo": {
     "elapsed": 4278,
     "status": "ok",
     "timestamp": 1700147145888,
     "user": {
      "displayName": "second Acc.",
      "userId": "03571417043818854590"
     },
     "user_tz": 0
    },
    "id": "nk8JTP88A8vs",
    "outputId": "7921be12-01d5-498a-f826-83b39ff861ec"
   },
   "outputs": [
    {
     "name": "stderr",
     "output_type": "stream",
     "text": [
      "[nltk_data] Downloading package punkt to /root/nltk_data...\n",
      "[nltk_data]   Unzipping tokenizers/punkt.zip.\n",
      "[nltk_data] Downloading package stopwords to /root/nltk_data...\n",
      "[nltk_data]   Unzipping corpora/stopwords.zip.\n",
      "[nltk_data] Downloading package movie_reviews to /root/nltk_data...\n",
      "[nltk_data]   Unzipping corpora/movie_reviews.zip.\n"
     ]
    }
   ],
   "source": [
    "\n",
    "import nltk\n",
    "nltk.download('punkt')\n",
    "nltk.download('stopwords')\n",
    "nltk.download('movie_reviews')\n",
    "from nltk.corpus import stopwords\n",
    "from nltk.tokenize import word_tokenize\n",
    "from nltk.corpus import movie_reviews\n",
    "\n",
    "\n",
    "import random\n",
    "\n",
    "\n",
    "import re\n",
    "import pandas as pd\n",
    "import matplotlib.pyplot as plt\n",
    "%matplotlib inline\n",
    "from itertools import zip_longest\n",
    "from nltk.probability import FreqDist\n",
    "from nltk.classify.api import ClassifierI\n"
   ]
  },
  {
   "cell_type": "code",
   "execution_count": 4,
   "metadata": {
    "executionInfo": {
     "elapsed": 514,
     "status": "ok",
     "timestamp": 1700147148954,
     "user": {
      "displayName": "second Acc.",
      "userId": "03571417043818854590"
     },
     "user_tz": 0
    },
    "id": "BHBkzAccCVaZ"
   },
   "outputs": [],
   "source": [
    "\n",
    "def split_data(data, ratio=0.7):\n",
    "    \"\"\"\n",
    "    Given corpus generator and ratio:\n",
    "     - partitions the corpus into training data and test data, where the proportion in train is ratio,\n",
    "\n",
    "    :param data: A corpus generator.\n",
    "    :param ratio: The proportion of training documents (default 0.7)\n",
    "    :return: a pair (tuple) of lists where the first element of the\n",
    "            pair is a list of the training data and the second is a list of the test data.\n",
    "    \"\"\"\n",
    "\n",
    "    data = list(data)\n",
    "    n = len(data)\n",
    "    train_indices = random.sample(range(n), int(n * ratio))\n",
    "    test_indices = list(set(range(n)) - set(train_indices))\n",
    "    train = [data[i] for i in train_indices]\n",
    "    test = [data[i] for i in test_indices]\n",
    "    return (train, test)\n",
    "\n",
    "\n",
    "def get_train_test_data():\n",
    "\n",
    "\n",
    "    pos_review_ids=movie_reviews.fileids('pos')\n",
    "    neg_review_ids=movie_reviews.fileids('neg')\n",
    "\n",
    "\n",
    "    pos_train_ids, pos_test_ids = split_data(pos_review_ids)\n",
    "    neg_train_ids, neg_test_ids = split_data(neg_review_ids)\n",
    "\n",
    "    training = [(movie_reviews.words(f),'pos') for f in pos_train_ids]+[(movie_reviews.words(f),'neg') for f in neg_train_ids]\n",
    "    testing = [(movie_reviews.words(f),'pos') for f in pos_test_ids]+[(movie_reviews.words(f),'neg') for f in neg_test_ids]\n",
    "\n",
    "    return training, testing"
   ]
  },
  {
   "cell_type": "markdown",
   "metadata": {
    "id": "1N3LWwBYICPP"
   },
   "source": [
    "When you have run the cell below, your unique training and testing samples will be stored in `training_data` and `testing_data`"
   ]
  },
  {
   "cell_type": "code",
   "execution_count": 5,
   "metadata": {
    "colab": {
     "base_uri": "https://localhost:8080/"
    },
    "executionInfo": {
     "elapsed": 6,
     "status": "ok",
     "timestamp": 1700147153259,
     "user": {
      "displayName": "second Acc.",
      "userId": "03571417043818854590"
     },
     "user_tz": 0
    },
    "id": "HJLegkdPFUJA",
    "outputId": "2aadd6b9-9ca5-4c51-8725-fbe41267ae51"
   },
   "outputs": [
    {
     "name": "stdout",
     "output_type": "stream",
     "text": [
      "The amount of training data is 1400\n",
      "The amount of testing data is 600\n",
      "The representation of a single data item is below\n",
      "(['\"', 'gattaca', '\"', 'represents', 'a', 'solid', ...], 'pos')\n"
     ]
    }
   ],
   "source": [
    "\n",
    "random.seed(candidateno)\n",
    "training_data,testing_data=get_train_test_data()\n",
    "print(\"The amount of training data is {}\".format(len(training_data)))\n",
    "print(\"The amount of testing data is {}\".format(len(testing_data)))\n",
    "print(\"The representation of a single data item is below\")\n",
    "print(training_data[0])"
   ]
  },
  {
   "cell_type": "markdown",
   "metadata": {
    "id": "RbTq6eGv2XT2"
   },
   "source": [
    "1)  \n",
    "a) **Generate** a list of 10 content words which are representative of the positive reviews in your training data.\n",
    "\n",
    "b) **Generate** a list of 10 content words which are representative of the negative reviews in your training data.\n",
    "\n",
    "c) **Explain** what you have done and why\n",
    "\n",
    "[20\\%]"
   ]
  },
  {
   "cell_type": "code",
   "execution_count": 40,
   "metadata": {
    "executionInfo": {
     "elapsed": 6827,
     "status": "ok",
     "timestamp": 1700150224160,
     "user": {
      "displayName": "second Acc.",
      "userId": "03571417043818854590"
     },
     "user_tz": 0
    },
    "id": "gvFu36xZ2XT5"
   },
   "outputs": [],
   "source": [
    "\n",
    "stop = stopwords.words('english')\n",
    "def normalise(wordlist):\n",
    "    lowered=[word.lower() for word in wordlist]\n",
    "    filtered=[word for word in lowered if word.isalpha() and word not in stop]\n",
    "    return filtered\n",
    "norm_training=[(FreqDist(normalise(wordlist)),label) for (wordlist,label) in training_data]\n",
    "norm_testing=[(FreqDist(normalise(wordlist)),label) for (wordlist,label) in testing_data]\n",
    "\n",
    "pos_freq_dist=FreqDist()\n",
    "neg_freq_dist=FreqDist()\n",
    "\n",
    "for reviewDist,label in norm_training:\n",
    "    if label=='pos':\n",
    "        pos_freq_dist+=reviewDist\n",
    "    else:\n",
    "        neg_freq_dist+=reviewDist\n",
    "\n",
    "posdiff=pos_freq_dist-neg_freq_dist\n",
    "\n",
    "def most_frequent_words(pos_freq,neg_freq,k):\n",
    "    difference=pos_freq-neg_freq\n",
    "    sorteddiff=difference.most_common()\n",
    "    topwords=[word for (word,freq) in sorteddiff[:k]]\n",
    "    return topwords\n",
    "\n",
    "pos_wordlist=most_frequent_words(pos_freq_dist,neg_freq_dist,10)\n",
    "neg_wordlist=most_frequent_words(neg_freq_dist,pos_freq_dist,10)"
   ]
  },
  {
   "cell_type": "code",
   "execution_count": 8,
   "metadata": {
    "colab": {
     "base_uri": "https://localhost:8080/"
    },
    "executionInfo": {
     "elapsed": 622,
     "status": "ok",
     "timestamp": 1700147172919,
     "user": {
      "displayName": "second Acc.",
      "userId": "03571417043818854590"
     },
     "user_tz": 0
    },
    "id": "RgePc9hV2XT_",
    "outputId": "17741b93-a2c2-424c-e667-fb76eaebd28e"
   },
   "outputs": [
    {
     "data": {
      "text/plain": [
       "['film',\n",
       " 'life',\n",
       " 'also',\n",
       " 'great',\n",
       " 'well',\n",
       " 'world',\n",
       " 'best',\n",
       " 'story',\n",
       " 'many',\n",
       " 'performance']"
      ]
     },
     "execution_count": 8,
     "metadata": {},
     "output_type": "execute_result"
    }
   ],
   "source": [
    "pos_wordlist"
   ]
  },
  {
   "cell_type": "code",
   "execution_count": 9,
   "metadata": {
    "colab": {
     "base_uri": "https://localhost:8080/"
    },
    "executionInfo": {
     "elapsed": 5,
     "status": "ok",
     "timestamp": 1700147175889,
     "user": {
      "displayName": "second Acc.",
      "userId": "03571417043818854590"
     },
     "user_tz": 0
    },
    "id": "VWzeEKp0qbRw",
    "outputId": "c0bc3d88-744e-4a13-9ea0-5adacb587682"
   },
   "outputs": [
    {
     "data": {
      "text/plain": [
       "['bad',\n",
       " 'movie',\n",
       " 'plot',\n",
       " 'even',\n",
       " 'worst',\n",
       " 'script',\n",
       " 'get',\n",
       " 'could',\n",
       " 'stupid',\n",
       " 'nothing']"
      ]
     },
     "execution_count": 9,
     "metadata": {},
     "output_type": "execute_result"
    }
   ],
   "source": [
    "neg_wordlist"
   ]
  },
  {
   "cell_type": "markdown",
   "metadata": {
    "id": "JauTzY5N2XUB"
   },
   "source": []
  },
  {
   "cell_type": "markdown",
   "metadata": {
    "id": "GewiHMpHqiSc"
   },
   "source": [
    "I prepared text data for sentiment analysis by normalizing and filtering words. Using NLTK, I removed stopwords, converted words to lowercase, and ensured only alphabetical words remained. Then, I generated frequency distributions for normalized words in both training and testing datasets.\n",
    "\n",
    "Next, I calculated the difference in frequency distributions between positive and negative reviews. To identify the most frequent words associated with each sentiment, I created word lists using the most_frequent_words function.\n",
    "\n",
    "In summary, I preprocessed and analyzed text data to extract the top 10 most frequent words for both positive and negative sentiments. This process is a common step in building sentiment analysis models, where the frequency of specific words can be indicative of sentiment."
   ]
  },
  {
   "cell_type": "markdown",
   "metadata": {
    "id": "TApOQE6vND20"
   },
   "source": [
    "2)\n",
    "a) **Use** the lists generated in Q1 to build a **word list classifier** which will classify reviews as being positive or negative.\n",
    "\n",
    "b) **Explain** what you have done.\n",
    "\n",
    "[12.5\\%]\n"
   ]
  },
  {
   "cell_type": "code",
   "execution_count": 10,
   "metadata": {
    "executionInfo": {
     "elapsed": 405,
     "status": "ok",
     "timestamp": 1700147197388,
     "user": {
      "displayName": "second Acc.",
      "userId": "03571417043818854590"
     },
     "user_tz": 0
    },
    "id": "BThDMrcmODJy"
   },
   "outputs": [],
   "source": [
    "class SimpleClassifier(ClassifierI):\n",
    "\n",
    "    def __init__(self, pos, neg):\n",
    "        self._pos = pos\n",
    "        self._neg = neg\n",
    "\n",
    "    def classify(self, doc):\n",
    "\n",
    "        score = 0\n",
    "\n",
    "\n",
    "        for word,value in doc.items():\n",
    "            if word in self._pos:\n",
    "                score+=value\n",
    "            if word in self._neg:\n",
    "                score-=value\n",
    "\n",
    "        return \"neg\" if score < 0 else \"pos\"\n",
    "\n",
    "\n",
    "\n",
    "    def labels(self):\n",
    "        return (\"pos\", \"neg\")\n",
    "\n",
    "class SimpleClassifier_mf(SimpleClassifier):\n",
    "\n",
    "    def __init__(self,k):\n",
    "        self._k=k\n",
    "\n",
    "    def train(self,training_data):\n",
    "\n",
    "        pos_freq_dist=FreqDist()\n",
    "        neg_freq_dist=FreqDist()\n",
    "\n",
    "        for reviewDist,label in training_data:\n",
    "            if label=='pos':\n",
    "                pos_freq_dist+=reviewDist\n",
    "            else:\n",
    "                neg_freq_dist+=reviewDist\n",
    "\n",
    "        self._pos=most_frequent_words(pos_freq_dist,neg_freq_dist,self._k)\n",
    "        self._neg=most_frequent_words(neg_freq_dist,pos_freq_dist,self._k)"
   ]
  },
  {
   "cell_type": "code",
   "execution_count": 21,
   "metadata": {
    "colab": {
     "base_uri": "https://localhost:8080/"
    },
    "executionInfo": {
     "elapsed": 2396,
     "status": "ok",
     "timestamp": 1700147849725,
     "user": {
      "displayName": "second Acc.",
      "userId": "03571417043818854590"
     },
     "user_tz": 0
    },
    "id": "CpnyXKAlq5I9",
    "outputId": "e03fb42a-ca83-49ed-e269-a93c3cd3d421"
   },
   "outputs": [
    {
     "data": {
      "text/plain": [
       "['pos',\n",
       " 'neg',\n",
       " 'pos',\n",
       " 'pos',\n",
       " 'pos',\n",
       " 'pos',\n",
       " 'pos',\n",
       " 'neg',\n",
       " 'pos',\n",
       " 'neg',\n",
       " 'pos',\n",
       " 'pos',\n",
       " 'pos',\n",
       " 'pos',\n",
       " 'pos',\n",
       " 'pos',\n",
       " 'pos',\n",
       " 'pos',\n",
       " 'pos',\n",
       " 'neg',\n",
       " 'neg',\n",
       " 'pos',\n",
       " 'pos',\n",
       " 'pos',\n",
       " 'pos',\n",
       " 'pos',\n",
       " 'pos',\n",
       " 'neg',\n",
       " 'pos',\n",
       " 'pos',\n",
       " 'pos',\n",
       " 'pos',\n",
       " 'pos',\n",
       " 'pos',\n",
       " 'neg',\n",
       " 'pos',\n",
       " 'pos',\n",
       " 'neg',\n",
       " 'neg',\n",
       " 'pos',\n",
       " 'pos',\n",
       " 'pos',\n",
       " 'pos',\n",
       " 'pos',\n",
       " 'pos',\n",
       " 'pos',\n",
       " 'pos',\n",
       " 'pos',\n",
       " 'pos',\n",
       " 'pos',\n",
       " 'pos',\n",
       " 'neg',\n",
       " 'neg',\n",
       " 'pos',\n",
       " 'pos',\n",
       " 'pos',\n",
       " 'pos',\n",
       " 'pos',\n",
       " 'pos',\n",
       " 'pos',\n",
       " 'pos',\n",
       " 'pos',\n",
       " 'pos',\n",
       " 'pos',\n",
       " 'neg',\n",
       " 'pos',\n",
       " 'pos',\n",
       " 'pos',\n",
       " 'neg',\n",
       " 'pos',\n",
       " 'pos',\n",
       " 'neg',\n",
       " 'pos',\n",
       " 'pos',\n",
       " 'neg',\n",
       " 'pos',\n",
       " 'pos',\n",
       " 'pos',\n",
       " 'pos',\n",
       " 'pos',\n",
       " 'pos',\n",
       " 'pos',\n",
       " 'pos',\n",
       " 'pos',\n",
       " 'pos',\n",
       " 'neg',\n",
       " 'neg',\n",
       " 'pos',\n",
       " 'pos',\n",
       " 'pos',\n",
       " 'pos',\n",
       " 'pos',\n",
       " 'pos',\n",
       " 'pos',\n",
       " 'pos',\n",
       " 'pos',\n",
       " 'pos',\n",
       " 'neg',\n",
       " 'pos',\n",
       " 'neg',\n",
       " 'pos',\n",
       " 'neg',\n",
       " 'pos',\n",
       " 'pos',\n",
       " 'pos',\n",
       " 'pos',\n",
       " 'pos',\n",
       " 'pos',\n",
       " 'pos',\n",
       " 'pos',\n",
       " 'pos',\n",
       " 'pos',\n",
       " 'pos',\n",
       " 'pos',\n",
       " 'neg',\n",
       " 'pos',\n",
       " 'pos',\n",
       " 'pos',\n",
       " 'pos',\n",
       " 'pos',\n",
       " 'pos',\n",
       " 'neg',\n",
       " 'pos',\n",
       " 'neg',\n",
       " 'pos',\n",
       " 'pos',\n",
       " 'pos',\n",
       " 'pos',\n",
       " 'pos',\n",
       " 'pos',\n",
       " 'pos',\n",
       " 'pos',\n",
       " 'pos',\n",
       " 'pos',\n",
       " 'pos',\n",
       " 'pos',\n",
       " 'neg',\n",
       " 'pos',\n",
       " 'pos',\n",
       " 'pos',\n",
       " 'pos',\n",
       " 'pos',\n",
       " 'pos',\n",
       " 'pos',\n",
       " 'pos',\n",
       " 'pos',\n",
       " 'pos',\n",
       " 'pos',\n",
       " 'pos',\n",
       " 'neg',\n",
       " 'pos',\n",
       " 'pos',\n",
       " 'neg',\n",
       " 'neg',\n",
       " 'pos',\n",
       " 'pos',\n",
       " 'neg',\n",
       " 'pos',\n",
       " 'neg',\n",
       " 'neg',\n",
       " 'pos',\n",
       " 'pos',\n",
       " 'pos',\n",
       " 'pos',\n",
       " 'pos',\n",
       " 'pos',\n",
       " 'neg',\n",
       " 'pos',\n",
       " 'pos',\n",
       " 'pos',\n",
       " 'pos',\n",
       " 'pos',\n",
       " 'pos',\n",
       " 'neg',\n",
       " 'pos',\n",
       " 'pos',\n",
       " 'pos',\n",
       " 'pos',\n",
       " 'pos',\n",
       " 'pos',\n",
       " 'pos',\n",
       " 'pos',\n",
       " 'pos',\n",
       " 'pos',\n",
       " 'pos',\n",
       " 'pos',\n",
       " 'pos',\n",
       " 'pos',\n",
       " 'neg',\n",
       " 'pos',\n",
       " 'pos',\n",
       " 'pos',\n",
       " 'pos',\n",
       " 'neg',\n",
       " 'pos',\n",
       " 'pos',\n",
       " 'pos',\n",
       " 'pos',\n",
       " 'pos',\n",
       " 'pos',\n",
       " 'pos',\n",
       " 'pos',\n",
       " 'pos',\n",
       " 'pos',\n",
       " 'pos',\n",
       " 'pos',\n",
       " 'pos',\n",
       " 'pos',\n",
       " 'pos',\n",
       " 'pos',\n",
       " 'pos',\n",
       " 'pos',\n",
       " 'pos',\n",
       " 'pos',\n",
       " 'neg',\n",
       " 'pos',\n",
       " 'neg',\n",
       " 'pos',\n",
       " 'pos',\n",
       " 'pos',\n",
       " 'neg',\n",
       " 'pos',\n",
       " 'pos',\n",
       " 'pos',\n",
       " 'pos',\n",
       " 'pos',\n",
       " 'neg',\n",
       " 'neg',\n",
       " 'neg',\n",
       " 'pos',\n",
       " 'neg',\n",
       " 'pos',\n",
       " 'neg',\n",
       " 'neg',\n",
       " 'neg',\n",
       " 'pos',\n",
       " 'pos',\n",
       " 'pos',\n",
       " 'pos',\n",
       " 'pos',\n",
       " 'pos',\n",
       " 'pos',\n",
       " 'pos',\n",
       " 'pos',\n",
       " 'pos',\n",
       " 'pos',\n",
       " 'neg',\n",
       " 'pos',\n",
       " 'neg',\n",
       " 'pos',\n",
       " 'pos',\n",
       " 'pos',\n",
       " 'pos',\n",
       " 'neg',\n",
       " 'pos',\n",
       " 'pos',\n",
       " 'pos',\n",
       " 'pos',\n",
       " 'pos',\n",
       " 'pos',\n",
       " 'pos',\n",
       " 'pos',\n",
       " 'pos',\n",
       " 'pos',\n",
       " 'pos',\n",
       " 'pos',\n",
       " 'pos',\n",
       " 'pos',\n",
       " 'pos',\n",
       " 'pos',\n",
       " 'pos',\n",
       " 'pos',\n",
       " 'pos',\n",
       " 'neg',\n",
       " 'pos',\n",
       " 'pos',\n",
       " 'pos',\n",
       " 'pos',\n",
       " 'neg',\n",
       " 'pos',\n",
       " 'pos',\n",
       " 'pos',\n",
       " 'pos',\n",
       " 'pos',\n",
       " 'neg',\n",
       " 'neg',\n",
       " 'pos',\n",
       " 'pos',\n",
       " 'neg',\n",
       " 'pos',\n",
       " 'neg',\n",
       " 'pos',\n",
       " 'pos',\n",
       " 'pos',\n",
       " 'pos',\n",
       " 'neg',\n",
       " 'pos',\n",
       " 'pos',\n",
       " 'neg',\n",
       " 'pos',\n",
       " 'neg',\n",
       " 'neg',\n",
       " 'neg',\n",
       " 'pos',\n",
       " 'pos',\n",
       " 'pos',\n",
       " 'neg',\n",
       " 'pos',\n",
       " 'pos',\n",
       " 'neg',\n",
       " 'pos',\n",
       " 'pos',\n",
       " 'pos',\n",
       " 'pos',\n",
       " 'pos',\n",
       " 'neg',\n",
       " 'pos',\n",
       " 'pos',\n",
       " 'pos',\n",
       " 'pos',\n",
       " 'neg',\n",
       " 'pos',\n",
       " 'neg',\n",
       " 'pos',\n",
       " 'neg',\n",
       " 'neg',\n",
       " 'neg',\n",
       " 'neg',\n",
       " 'neg',\n",
       " 'pos',\n",
       " 'pos',\n",
       " 'pos',\n",
       " 'neg',\n",
       " 'neg',\n",
       " 'neg',\n",
       " 'pos',\n",
       " 'pos',\n",
       " 'pos',\n",
       " 'pos',\n",
       " 'pos',\n",
       " 'pos',\n",
       " 'pos',\n",
       " 'pos',\n",
       " 'neg',\n",
       " 'pos',\n",
       " 'pos',\n",
       " 'neg',\n",
       " 'neg',\n",
       " 'neg',\n",
       " 'neg',\n",
       " 'neg',\n",
       " 'neg',\n",
       " 'pos',\n",
       " 'neg',\n",
       " 'pos',\n",
       " 'pos',\n",
       " 'neg',\n",
       " 'neg',\n",
       " 'neg',\n",
       " 'pos',\n",
       " 'pos',\n",
       " 'neg',\n",
       " 'neg',\n",
       " 'neg',\n",
       " 'pos',\n",
       " 'pos',\n",
       " 'neg',\n",
       " 'pos',\n",
       " 'pos',\n",
       " 'neg',\n",
       " 'pos',\n",
       " 'pos',\n",
       " 'pos',\n",
       " 'neg',\n",
       " 'neg',\n",
       " 'pos',\n",
       " 'pos',\n",
       " 'pos',\n",
       " 'pos',\n",
       " 'pos',\n",
       " 'neg',\n",
       " 'pos',\n",
       " 'neg',\n",
       " 'neg',\n",
       " 'pos',\n",
       " 'neg',\n",
       " 'pos',\n",
       " 'neg',\n",
       " 'pos',\n",
       " 'pos',\n",
       " 'pos',\n",
       " 'neg',\n",
       " 'pos',\n",
       " 'pos',\n",
       " 'pos',\n",
       " 'neg',\n",
       " 'pos',\n",
       " 'neg',\n",
       " 'neg',\n",
       " 'neg',\n",
       " 'pos',\n",
       " 'neg',\n",
       " 'pos',\n",
       " 'neg',\n",
       " 'pos',\n",
       " 'neg',\n",
       " 'neg',\n",
       " 'neg',\n",
       " 'pos',\n",
       " 'neg',\n",
       " 'pos',\n",
       " 'neg',\n",
       " 'neg',\n",
       " 'neg',\n",
       " 'neg',\n",
       " 'pos',\n",
       " 'pos',\n",
       " 'neg',\n",
       " 'neg',\n",
       " 'pos',\n",
       " 'pos',\n",
       " 'pos',\n",
       " 'neg',\n",
       " 'pos',\n",
       " 'pos',\n",
       " 'neg',\n",
       " 'neg',\n",
       " 'neg',\n",
       " 'neg',\n",
       " 'pos',\n",
       " 'neg',\n",
       " 'pos',\n",
       " 'neg',\n",
       " 'neg',\n",
       " 'neg',\n",
       " 'neg',\n",
       " 'neg',\n",
       " 'pos',\n",
       " 'pos',\n",
       " 'neg',\n",
       " 'pos',\n",
       " 'pos',\n",
       " 'neg',\n",
       " 'pos',\n",
       " 'neg',\n",
       " 'neg',\n",
       " 'pos',\n",
       " 'pos',\n",
       " 'pos',\n",
       " 'neg',\n",
       " 'neg',\n",
       " 'neg',\n",
       " 'neg',\n",
       " 'pos',\n",
       " 'neg',\n",
       " 'pos',\n",
       " 'neg',\n",
       " 'pos',\n",
       " 'pos',\n",
       " 'pos',\n",
       " 'neg',\n",
       " 'pos',\n",
       " 'pos',\n",
       " 'pos',\n",
       " 'neg',\n",
       " 'neg',\n",
       " 'pos',\n",
       " 'pos',\n",
       " 'neg',\n",
       " 'neg',\n",
       " 'neg',\n",
       " 'neg',\n",
       " 'neg',\n",
       " 'neg',\n",
       " 'pos',\n",
       " 'pos',\n",
       " 'neg',\n",
       " 'pos',\n",
       " 'pos',\n",
       " 'neg',\n",
       " 'neg',\n",
       " 'neg',\n",
       " 'pos',\n",
       " 'pos',\n",
       " 'pos',\n",
       " 'pos',\n",
       " 'neg',\n",
       " 'neg',\n",
       " 'pos',\n",
       " 'neg',\n",
       " 'neg',\n",
       " 'pos',\n",
       " 'pos',\n",
       " 'neg',\n",
       " 'pos',\n",
       " 'neg',\n",
       " 'neg',\n",
       " 'pos',\n",
       " 'pos',\n",
       " 'pos',\n",
       " 'neg',\n",
       " 'pos',\n",
       " 'neg',\n",
       " 'pos',\n",
       " 'pos',\n",
       " 'neg',\n",
       " 'pos',\n",
       " 'pos',\n",
       " 'neg',\n",
       " 'pos',\n",
       " 'neg',\n",
       " 'neg',\n",
       " 'neg',\n",
       " 'pos',\n",
       " 'neg',\n",
       " 'pos',\n",
       " 'neg',\n",
       " 'pos',\n",
       " 'pos',\n",
       " 'neg',\n",
       " 'pos',\n",
       " 'neg',\n",
       " 'pos',\n",
       " 'neg',\n",
       " 'pos',\n",
       " 'pos',\n",
       " 'neg',\n",
       " 'pos',\n",
       " 'neg',\n",
       " 'neg',\n",
       " 'neg',\n",
       " 'neg',\n",
       " 'neg',\n",
       " 'neg',\n",
       " 'pos',\n",
       " 'neg',\n",
       " 'neg',\n",
       " 'pos',\n",
       " 'pos',\n",
       " 'neg',\n",
       " 'neg',\n",
       " 'pos',\n",
       " 'neg',\n",
       " 'neg',\n",
       " 'neg',\n",
       " 'pos',\n",
       " 'pos',\n",
       " 'pos',\n",
       " 'neg',\n",
       " 'pos',\n",
       " 'neg',\n",
       " 'pos',\n",
       " 'pos',\n",
       " 'pos',\n",
       " 'neg',\n",
       " 'neg',\n",
       " 'pos',\n",
       " 'neg',\n",
       " 'pos',\n",
       " 'pos',\n",
       " 'pos',\n",
       " 'neg',\n",
       " 'neg',\n",
       " 'neg',\n",
       " 'neg',\n",
       " 'neg',\n",
       " 'neg',\n",
       " 'pos',\n",
       " 'pos',\n",
       " 'pos',\n",
       " 'pos',\n",
       " 'neg',\n",
       " 'neg',\n",
       " 'neg',\n",
       " 'neg',\n",
       " 'pos',\n",
       " 'neg',\n",
       " 'neg',\n",
       " 'neg',\n",
       " 'neg',\n",
       " 'neg',\n",
       " 'neg',\n",
       " 'pos',\n",
       " 'neg',\n",
       " 'neg',\n",
       " 'neg',\n",
       " 'neg',\n",
       " 'pos',\n",
       " 'pos',\n",
       " 'neg',\n",
       " 'pos',\n",
       " 'neg',\n",
       " 'pos',\n",
       " 'pos',\n",
       " 'pos',\n",
       " 'pos',\n",
       " 'pos',\n",
       " 'pos',\n",
       " 'pos',\n",
       " 'neg']"
      ]
     },
     "execution_count": 21,
     "metadata": {},
     "output_type": "execute_result"
    }
   ],
   "source": [
    "movieclassifier=SimpleClassifier_mf(10)\n",
    "movieclassifier.train(norm_training)\n",
    "testing,goldlabels=zip(*norm_testing)\n",
    "movieclassifier.classify_many(testing)"
   ]
  },
  {
   "cell_type": "markdown",
   "metadata": {
    "id": "2Ixr-M5-rCyJ"
   },
   "source": [
    "I created a class called SimpleClassifier for a straightforward sentiment analysis task. In the constructor, I set up word lists for positive and negative sentiments. The classify method evaluates a review's sentiment by scoring the presence of words in these lists. If the score is positive, I classify the review as \"pos\"; otherwise, it's labeled as \"neg.\" The labels method provides the possible sentiment labels.\n",
    "\n",
    "Building on that, I extended this class to create a more specialized classifier, WordListClassifier. In its constructor, I added a parameter k to determine the number of top words to consider. The train method processes the training data, calculates frequency distributions for positive and negative reviews, and extracts the most frequent words using the most_frequent_words function. These word lists are then used as features for sentiment analysis.\n",
    "\n",
    "This approach is a simple yet effective way to create a sentiment classifier based on the most frequent words in positive and negative reviews."
   ]
  },
  {
   "cell_type": "markdown",
   "metadata": {
    "id": "C6vK5Vyz2XUF"
   },
   "source": []
  },
  {
   "cell_type": "markdown",
   "metadata": {
    "id": "YZdDO_Y92XUH"
   },
   "source": [
    "3)\n",
    "a) **Calculate** the accuracy, precision, recall and F1 score of your classifier.\n",
    "\n",
    "b) Is it reasonable to evaluate the classifier in terms of its accuracy?  **Explain** your answer and give a counter-example (a scenario where it would / would not be reasonable to evaluate the classifier in terms of its accuracy).\n",
    "\n",
    "[20\\%]"
   ]
  },
  {
   "cell_type": "code",
   "execution_count": 14,
   "metadata": {
    "executionInfo": {
     "elapsed": 410,
     "status": "ok",
     "timestamp": 1700147345871,
     "user": {
      "displayName": "second Acc.",
      "userId": "03571417043818854590"
     },
     "user_tz": 0
    },
    "id": "1LQc8bsA2XUI"
   },
   "outputs": [],
   "source": [
    "class ConfusionMatrix:\n",
    "    def __init__(self,predictions,goldstandard,classes=(\"pos\",\"neg\")):\n",
    "\n",
    "        (self.c1,self.c2)=classes\n",
    "\n",
    "        self.TP=0\n",
    "        self.FP=0\n",
    "        self.FN=0\n",
    "        self.TN=0\n",
    "        for p,g in zip(predictions,goldstandard):\n",
    "            if g==self.c1:\n",
    "                if p==self.c1:\n",
    "                    self.TP+=1\n",
    "                else:\n",
    "                    self.FN+=1\n",
    "\n",
    "            elif p==self.c1:\n",
    "                self.FP+=1\n",
    "            else:\n",
    "                self.TN+=1\n",
    "\n",
    "\n",
    "    def precision(self):\n",
    "        p=0\n",
    "\n",
    "        p = self.TP / (self.TP + self.FP)\n",
    "\n",
    "        return p\n",
    "\n",
    "    def recall(self):\n",
    "        r=0\n",
    "        r=self.TP/(self.TP+self.FN)\n",
    "\n",
    "        return r\n",
    "\n",
    "    def f1(self):\n",
    "        f1=0\n",
    "\n",
    "        p=self.precision()\n",
    "        r=self.recall()\n",
    "        f1=2*p*r/(p+r)\n",
    "        return f1\n",
    "\n",
    "    def accuracy(self):\n",
    "        a=0\n",
    "        a=(self.TP+self.TN)/(self.TP+self.FP+self.TN+self.FN)\n",
    "        return a"
   ]
  },
  {
   "cell_type": "code",
   "execution_count": 22,
   "metadata": {
    "colab": {
     "base_uri": "https://localhost:8080/"
    },
    "executionInfo": {
     "elapsed": 457,
     "status": "ok",
     "timestamp": 1700147854855,
     "user": {
      "displayName": "second Acc.",
      "userId": "03571417043818854590"
     },
     "user_tz": 0
    },
    "id": "R_i80ceP2XUJ",
    "outputId": "740e7479-6bc9-40de-a6fd-abeb212710a9"
   },
   "outputs": [
    {
     "data": {
      "text/plain": [
       "0.66"
      ]
     },
     "execution_count": 22,
     "metadata": {},
     "output_type": "execute_result"
    }
   ],
   "source": [
    "evaluate_test=ConfusionMatrix(movieclassifier.classify_many(testing),goldlabels)\n",
    "evaluate_test.accuracy()"
   ]
  },
  {
   "cell_type": "code",
   "execution_count": 16,
   "metadata": {
    "colab": {
     "base_uri": "https://localhost:8080/"
    },
    "executionInfo": {
     "elapsed": 4,
     "status": "ok",
     "timestamp": 1700147373311,
     "user": {
      "displayName": "second Acc.",
      "userId": "03571417043818854590"
     },
     "user_tz": 0
    },
    "id": "VbYwwhcs2XUL",
    "outputId": "dd0bd6f3-26f6-403a-d26e-98c8c602c8af"
   },
   "outputs": [
    {
     "data": {
      "text/plain": [
       "0.6218274111675127"
      ]
     },
     "execution_count": 16,
     "metadata": {},
     "output_type": "execute_result"
    }
   ],
   "source": [
    "evaluate_test.precision()"
   ]
  },
  {
   "cell_type": "code",
   "execution_count": 17,
   "metadata": {
    "colab": {
     "base_uri": "https://localhost:8080/"
    },
    "executionInfo": {
     "elapsed": 6,
     "status": "ok",
     "timestamp": 1700147384790,
     "user": {
      "displayName": "second Acc.",
      "userId": "03571417043818854590"
     },
     "user_tz": 0
    },
    "id": "J61qtyfHriuK",
    "outputId": "6ac964c2-379a-4bec-fc71-5f47aba5f121"
   },
   "outputs": [
    {
     "data": {
      "text/plain": [
       "0.8166666666666667"
      ]
     },
     "execution_count": 17,
     "metadata": {},
     "output_type": "execute_result"
    }
   ],
   "source": [
    "evaluate_test.recall()"
   ]
  },
  {
   "cell_type": "code",
   "execution_count": 18,
   "metadata": {
    "colab": {
     "base_uri": "https://localhost:8080/"
    },
    "executionInfo": {
     "elapsed": 3,
     "status": "ok",
     "timestamp": 1700147394618,
     "user": {
      "displayName": "second Acc.",
      "userId": "03571417043818854590"
     },
     "user_tz": 0
    },
    "id": "Uu5AGO3Krm2_",
    "outputId": "ff492699-dd2f-47e9-8349-2ba07c08c9bd"
   },
   "outputs": [
    {
     "data": {
      "text/plain": [
       "0.7060518731988472"
      ]
     },
     "execution_count": 18,
     "metadata": {},
     "output_type": "execute_result"
    }
   ],
   "source": [
    "evaluate_test.f1()"
   ]
  },
  {
   "cell_type": "markdown",
   "metadata": {
    "id": "lW1HfbR_rtS6"
   },
   "source": [
    "I designed a class called ConfusionMatrix to assess the performance of a binary classification model. In the constructor, I set up the confusion matrix components (True Positive TP, False Positive FP, False Negative FN, True Negative TN) based on the provided classes, defaulting to \"pos\" and \"neg.\" I then looped through the predictions and true labels, updating these components accordingly.\n",
    "\n",
    "For evaluation metrics, I implemented methods to calculate accuracy, precision, recall, and F1 score. The accuracy method gauges the overall correctness of the model, while precision focuses on the accuracy of positive predictions. Recall evaluates the model's ability to capture positive instances. Lastly, the f1 method computes the harmonic mean of precision and recall, providing a balanced measure of the model's performance.\n",
    "\n",
    "This ConfusionMatrix class is a handy tool for assessing the effectiveness of a binary classification model across various performance metrics\n",
    "\n"
   ]
  },
  {
   "cell_type": "markdown",
   "metadata": {
    "id": "AVZp0N5J2XUL"
   },
   "source": []
  },
  {
   "cell_type": "markdown",
   "metadata": {
    "id": "LIS9UpmJNEAp"
   },
   "source": [
    "4)\n",
    "a)  **Construct** a Naive Bayes classifier (e.g., from NLTK).\n",
    "\n",
    "b)  **Compare** the performance of your word list classifier with the Naive Bayes classifier.  **Discuss** your results.\n",
    "\n",
    "[12.5\\%]"
   ]
  },
  {
   "cell_type": "code",
   "execution_count": 24,
   "metadata": {
    "executionInfo": {
     "elapsed": 4,
     "status": "ok",
     "timestamp": 1700147919870,
     "user": {
      "displayName": "second Acc.",
      "userId": "03571417043818854590"
     },
     "user_tz": 0
    },
    "id": "3AUsYRMa2XUN"
   },
   "outputs": [],
   "source": [
    "from nltk.classify.api import ClassifierI\n",
    "import math\n",
    "class NBClassifier(ClassifierI):\n",
    "\n",
    "    def __init__(self):\n",
    "\n",
    "        pass\n",
    "\n",
    "    def _set_known_vocabulary(self,training_data):\n",
    "        known=[]\n",
    "        for doc,label in training_data:\n",
    "            known+=list(doc.keys())\n",
    "        self.known= set(known)\n",
    "\n",
    "    def _set_priors(self,training_data):\n",
    "        priors={}\n",
    "        for (doc,label) in training_data:\n",
    "            priors[label]=priors.get(label,0)+1\n",
    "        total=sum(priors.values())\n",
    "        for key,value in priors.items():\n",
    "            priors[key]=value/total\n",
    "        self.priors=priors\n",
    "\n",
    "    def _set_cond_probs(self,training_data):\n",
    "        conds={}\n",
    "        for(doc,label) in training_data:\n",
    "            classcond=conds.get(label,{})\n",
    "            for word in doc.keys():\n",
    "                classcond[word]=classcond.get(word,0)+1\n",
    "\n",
    "            conds[label]=classcond\n",
    "\n",
    "        for label, classcond in conds.items():\n",
    "            for word in self.known:\n",
    "\n",
    "                classcond[word]=classcond.get(word,0)+1\n",
    "            conds[label]=classcond\n",
    "\n",
    "        for label,dist in conds.items():\n",
    "            total=sum(dist.values())\n",
    "            conds[label]={key:value/total for (key,value) in dist.items()}\n",
    "\n",
    "        self.conds=conds\n",
    "\n",
    "    def train(self,training_data):\n",
    "        self._set_known_vocabulary(training_data)\n",
    "        self._set_priors(training_data)\n",
    "        self._set_cond_probs(training_data)\n",
    "\n",
    "    def classify(self,doc):\n",
    "        doc_probs={key:math.log(value) for (key,value) in self.priors.items()}\n",
    "        for word in doc.keys():\n",
    "            if word in self.known:\n",
    "                doc_probs={classlabel:sofar+math.log(self.conds[classlabel].get(word,0)) for (classlabel,sofar) in doc_probs.items()}\n",
    "\n",
    "        highprob=max(doc_probs.values())\n",
    "        classes=[c for c in doc_probs.keys() if doc_probs[c]==highprob]\n",
    "        return random.choice(classes)"
   ]
  },
  {
   "cell_type": "code",
   "execution_count": 25,
   "metadata": {
    "executionInfo": {
     "elapsed": 560,
     "status": "ok",
     "timestamp": 1700147923882,
     "user": {
      "displayName": "second Acc.",
      "userId": "03571417043818854590"
     },
     "user_tz": 0
    },
    "id": "4dRVM-MvsdAW"
   },
   "outputs": [],
   "source": [
    "myclassifier=NBClassifier()\n",
    "myclassifier.train(norm_training)\n",
    "test_nb=ConfusionMatrix(myclassifier.classify_many(testing),goldlabels)"
   ]
  },
  {
   "cell_type": "code",
   "execution_count": 26,
   "metadata": {
    "colab": {
     "base_uri": "https://localhost:8080/"
    },
    "executionInfo": {
     "elapsed": 533,
     "status": "ok",
     "timestamp": 1700148071290,
     "user": {
      "displayName": "second Acc.",
      "userId": "03571417043818854590"
     },
     "user_tz": 0
    },
    "id": "fywmfJ7ittfa",
    "outputId": "66624c77-26e1-4bbd-ba23-432264958f80"
   },
   "outputs": [
    {
     "data": {
      "text/plain": [
       "0.8333333333333334"
      ]
     },
     "execution_count": 26,
     "metadata": {},
     "output_type": "execute_result"
    }
   ],
   "source": [
    "test_nb.accuracy()"
   ]
  },
  {
   "cell_type": "code",
   "execution_count": 28,
   "metadata": {
    "colab": {
     "base_uri": "https://localhost:8080/"
    },
    "executionInfo": {
     "elapsed": 932,
     "status": "ok",
     "timestamp": 1700148432771,
     "user": {
      "displayName": "second Acc.",
      "userId": "03571417043818854590"
     },
     "user_tz": 0
    },
    "id": "8KP_kGtuuOEG",
    "outputId": "bfa0d140-b767-4ab8-e218-faf67f1584bc"
   },
   "outputs": [
    {
     "data": {
      "text/plain": [
       "0.8378378378378378"
      ]
     },
     "execution_count": 28,
     "metadata": {},
     "output_type": "execute_result"
    }
   ],
   "source": [
    "test_nb.precision()"
   ]
  },
  {
   "cell_type": "code",
   "execution_count": 29,
   "metadata": {
    "colab": {
     "base_uri": "https://localhost:8080/"
    },
    "executionInfo": {
     "elapsed": 5,
     "status": "ok",
     "timestamp": 1700148456786,
     "user": {
      "displayName": "second Acc.",
      "userId": "03571417043818854590"
     },
     "user_tz": 0
    },
    "id": "32TODWppuONI",
    "outputId": "db046ba6-a959-431b-8b4a-1d981fcb83b4"
   },
   "outputs": [
    {
     "data": {
      "text/plain": [
       "0.8266666666666667"
      ]
     },
     "execution_count": 29,
     "metadata": {},
     "output_type": "execute_result"
    }
   ],
   "source": [
    "test_nb.recall()"
   ]
  },
  {
   "cell_type": "code",
   "execution_count": 30,
   "metadata": {
    "colab": {
     "base_uri": "https://localhost:8080/"
    },
    "executionInfo": {
     "elapsed": 6,
     "status": "ok",
     "timestamp": 1700148480812,
     "user": {
      "displayName": "second Acc.",
      "userId": "03571417043818854590"
     },
     "user_tz": 0
    },
    "id": "VVExhpE-uOTq",
    "outputId": "54b455ab-bb17-42ff-a6c6-a5c018a7c50d"
   },
   "outputs": [
    {
     "data": {
      "text/plain": [
       "0.8322147651006713"
      ]
     },
     "execution_count": 30,
     "metadata": {},
     "output_type": "execute_result"
    }
   ],
   "source": [
    "test_nb.f1()"
   ]
  },
  {
   "cell_type": "markdown",
   "metadata": {
    "id": "UTuev8bkwQwG"
   },
   "source": [
    "I created an NBClassifier class for binary classification using the Naive Bayes algorithm. The class is initialized with methods to establish a known vocabulary, calculate class priors, and compute conditional probabilities during training. The classification process involves computing log probabilities for each class and selecting the class with the highest probability as the prediction. It's important to note that the code lacks an import statement for the random module, which is used in the classify method. Overall, this implementation serves as a basic yet functional Naive Bayes classifier for binary classification tasks."
   ]
  },
  {
   "cell_type": "markdown",
   "metadata": {
    "id": "WB6_dayBvx9k"
   },
   "source": []
  },
  {
   "cell_type": "markdown",
   "metadata": {
    "id": "bytPkuHf2XUO"
   },
   "source": []
  },
  {
   "cell_type": "markdown",
   "metadata": {
    "id": "LGDXaVDqOSfY"
   },
   "source": [
    "5)\n",
    "a) Design and **carry out an experiment** into the impact of the **length of the wordlists** on the wordlist classifier.  Make sure you **describe** design decisions in your experiment, include a **graph** of your results and **discuss** your conclusions.\n",
    "\n",
    "b) Would you **recommend** a wordlist classifier or a Naive Bayes classifier for future work in this area?  **Justify** your answer.\n",
    "\n",
    "[25\\%]\n"
   ]
  },
  {
   "cell_type": "markdown",
   "metadata": {
    "id": "UlxoUthX2XUP"
   },
   "source": []
  },
  {
   "cell_type": "code",
   "execution_count": 37,
   "metadata": {
    "executionInfo": {
     "elapsed": 64525,
     "status": "ok",
     "timestamp": 1700149182544,
     "user": {
      "displayName": "second Acc.",
      "userId": "03571417043818854590"
     },
     "user_tz": 0
    },
    "id": "T1L7mZ-k2XUQ"
   },
   "outputs": [],
   "source": [
    "from scipy.stats import siegelslopes\n",
    "length=[]\n",
    "accuracy=[]\n",
    "precision=[]\n",
    "recall=[]\n",
    "f1=[]\n",
    "\n",
    "for i in range(1,30):\n",
    "    length.append(i)\n",
    "    result=SimpleClassifier_mf(i)\n",
    "    result.train(norm_training)\n",
    "    results=ConfusionMatrix(result.classify_many(testing),goldlabels)\n",
    "    accuracy.append(results.accuracy())\n",
    "    precision.append(results.precision())\n",
    "    recall.append(results.recall())\n",
    "    f1.append(results.f1())"
   ]
  },
  {
   "cell_type": "code",
   "execution_count": 38,
   "metadata": {
    "colab": {
     "base_uri": "https://localhost:8080/",
     "height": 324
    },
    "executionInfo": {
     "elapsed": 2100,
     "status": "ok",
     "timestamp": 1700149389890,
     "user": {
      "displayName": "second Acc.",
      "userId": "03571417043818854590"
     },
     "user_tz": 0
    },
    "id": "xFeOWIRm2XUQ",
    "outputId": "29f0fc3f-efc8-47df-891b-9e51875e544a"
   },
   "outputs": [
    {
     "data": {
      "image/png": "[encoded data removed]",
      "text/plain": [
       "<Figure size 2500x500 with 3 Axes>"
      ]
     },
     "metadata": {},
     "output_type": "display_data"
    }
   ],
   "source": [
    "plt.figure(figsize=(25,5))\n",
    "plt.subplot(1, 3, 1)\n",
    "plt.plot(length,accuracy)\n",
    "plt.xlabel(\"length\")\n",
    "plt.ylabel(\"Accuracy\")\n",
    "plt.title(\"Changes in accuracy as the length increases\")\n",
    "plt.subplot(1, 3, 2)\n",
    "plt.plot(length,precision)\n",
    "plt.xlabel(\"length\")\n",
    "plt.ylabel(\"Precision\")\n",
    "plt.title(\"Changes in precision as the length increases\")\n",
    "plt.subplot(1, 3, 3)\n",
    "plt.plot(length,recall)\n",
    "plt.xlabel(\"length\")\n",
    "plt.ylabel(\"Recall\")\n",
    "plt.title(\"Changes in recall as the length increases\")\n",
    "plt.show()"
   ]
  },
  {
   "cell_type": "markdown",
   "metadata": {
    "id": "Ym-TGvYS2XUR"
   },
   "source": []
  },
  {
   "cell_type": "markdown",
   "metadata": {
    "id": "1Qv2yGTr1ZNW"
   },
   "source": [
    "The recommendation depends on the specific needs of the task. If interpretability and simplicity are crucial, and the wordlist classifier performs well, it might be a suitable choice. However, if the task demands more complex pattern recognition and contextual understanding, a Naive Bayes classifier might be recommended due to its ability to capture relationships between words.\n",
    "In summary, the choice between a wordlist classifier and a Naive Bayes classifier depends on the experimental results and the specific requirements of the task. If the wordlist classifier exhibits consistent and satisfactory performance across various lengths, it could be recommended. However, a Naive Bayes classifier might be more suitable for tasks requiring advanced contextual understanding and relationship capture."
   ]
  },
  {
   "cell_type": "code",
   "execution_count": null,
   "metadata": {
    "colab": {
     "base_uri": "https://localhost:8080/"
    },
    "id": "34rdlS_iPov6",
    "outputId": "5465e8f3-ec02-4ff6-b326-0bf15c507b73"
   },
   "outputs": [
    {
     "name": "stdout",
     "output_type": "stream",
     "text": [
      "Drive already mounted at /content/drive; to attempt to forcibly remount, call drive.mount(\"/content/drive\", force_remount=True).\n",
      "Submission length is 0\n"
     ]
    }
   ],
   "source": [
    "##This code will word count all of the markdown cells in the notebook saved at filepath\n",
    "\n",
    "import io\n",
    "from nbformat import current\n",
    "\n",
    "from google.colab import drive\n",
    "drive.mount('/content/drive')\n",
    "\n",
    "filepath=\"/content/drive/MyDrive/Colab Notebooks/ANLPassignment2023.ipynb\"\n",
    "question_count=432\n",
    "\n",
    "with io.open(filepath, 'r', encoding='utf-8') as f:\n",
    "    nb = current.read(f, 'json')\n",
    "\n",
    "word_count = 0\n",
    "for cell in nb.worksheets[0].cells:\n",
    "    if cell.cell_type == \"markdown\":\n",
    "        word_count += len(cell['source'].replace('#', '').lstrip().split(' '))\n",
    "print(\"Submission length is {}\".format(word_count-question_count))"
   ]
  }
 ],
 "metadata": {
  "colab": {
   "provenance": []
  },
  "kernelspec": {
   "display_name": "Python 3 (ipykernel)",
   "language": "python",
   "name": "python3"
  },
  "language_info": {
   "codemirror_mode": {
    "name": "ipython",
    "version": 3
   },
   "file_extension": ".py",
   "mimetype": "text/x-python",
   "name": "python",
   "nbconvert_exporter": "python",
   "pygments_lexer": "ipython3",
   "version": "3.11.5"
  }
 },
 "nbformat": 4,
 "nbformat_minor": 1
}
